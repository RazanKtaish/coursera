{
 "cells": [
  {
   "cell_type": "markdown",
   "id": "24e3efce-5613-492f-8be5-31ceb44f0a75",
   "metadata": {
    "tags": []
   },
   "source": [
    "Create a markdown cell with the title Data Science Tools and Ecosystem using H1 style heading."
   ]
  },
  {
   "cell_type": "markdown",
   "id": "fb5456a9-4bdd-4ff6-9122-7a83b39f0f88",
   "metadata": {
    "tags": []
   },
   "source": [
    "before run :"
   ]
  },
  {
   "cell_type": "markdown",
   "id": "d6b24199-7879-4667-b99c-65312d39704f",
   "metadata": {
    "tags": []
   },
   "source": [
    "# Data Science Tools and Ecosystem"
   ]
  },
  {
   "cell_type": "markdown",
   "id": "7700cdcf-b509-4d05-90dd-c972e1bd2453",
   "metadata": {
    "tags": []
   },
   "source": [
    "after run : "
   ]
  },
  {
   "cell_type": "markdown",
   "id": "894d136f-1691-4046-a4d3-6442a494d3cd",
   "metadata": {
    "tags": []
   },
   "source": [
    "# Data Science Tools and Ecosystem"
   ]
  },
  {
   "cell_type": "code",
   "execution_count": null,
   "id": "f92d029b-b8db-48ec-8ec8-f833172d78dd",
   "metadata": {},
   "outputs": [],
   "source": []
  },
  {
   "cell_type": "code",
   "execution_count": null,
   "id": "ad67cee1-f93f-43d0-a770-535b444d9209",
   "metadata": {},
   "outputs": [],
   "source": []
  },
  {
   "cell_type": "markdown",
   "id": "d1f591f8-aadc-46a1-b935-7ab1fd227149",
   "metadata": {},
   "source": [
    "\n",
    "\n",
    "**exercise 3** :\n",
    "Write an introductory sentence about the notebook such as the follows:\n",
    "\n",
    "In this notebook, Data Science Tools and Ecosystem are summarized."
   ]
  },
  {
   "cell_type": "markdown",
   "id": "c934ede0-0963-4b94-919a-cabb92f55418",
   "metadata": {},
   "source": [
    "before run :"
   ]
  },
  {
   "cell_type": "markdown",
   "id": "3d298f09-4f5a-40c2-a1f6-7aa623f9eebd",
   "metadata": {},
   "source": [
    "In this notebook, Data Science Tools and Ecosystem are summarized."
   ]
  },
  {
   "cell_type": "markdown",
   "id": "ecd7933f-d569-43c1-acc6-50323bb591da",
   "metadata": {},
   "source": [
    "after run :"
   ]
  },
  {
   "cell_type": "markdown",
   "id": "b336b933-998f-47be-ab37-fec99bdee2e9",
   "metadata": {},
   "source": [
    "In this notebook, Data Science Tools and Ecosystem are summarized."
   ]
  },
  {
   "cell_type": "markdown",
   "id": "41fca074-bfe4-4d30-b056-303ff9451c83",
   "metadata": {},
   "source": [
    "**Exercise 4** :\n",
    "Create a markdown cell to list data science languages\n",
    "\n",
    "Start the cell with an overview line such as:\n",
    "\n",
    "Some of the popular languages that Data Scientists use are:\n",
    "Then create an ordered list (i.e. numbered) listing 3 (or more) commonly used languages for data science."
   ]
  },
  {
   "cell_type": "markdown",
   "id": "f972326f-ae3b-4a3f-b49f-f0a694d31b65",
   "metadata": {},
   "source": [
    "before run :"
   ]
  },
  {
   "cell_type": "markdown",
   "id": "55bdb64d-d248-476d-be74-d77279d76e3c",
   "metadata": {},
   "source": [
    "Some of the popular languages that Data Scientists use are: \n",
    "1. python \n",
    "2. R\n",
    "3. Ruby\n",
    "4. Julia"
   ]
  },
  {
   "cell_type": "markdown",
   "id": "fb27ad75-e066-43d6-b8b2-5bb74404e032",
   "metadata": {},
   "source": [
    "after run :"
   ]
  },
  {
   "cell_type": "markdown",
   "id": "75bce70b-8c60-4ae7-bf2e-5d70ef4f850b",
   "metadata": {},
   "source": [
    "Some of the popular languages that Data Scientists use are: \n",
    "1. python \n",
    "2. R\n",
    "3. Ruby\n",
    "4. Julia"
   ]
  },
  {
   "cell_type": "markdown",
   "id": "3c80c903-fb07-42fe-834c-c6547a5fcab4",
   "metadata": {},
   "source": [
    "**Exercise 5**\n",
    "Create a markdown cell to list data science libraries\n",
    "\n",
    "Add an overview line to the cell like:\n",
    "\n",
    "Some of the commonly used libraries used by Data Scientists include:\n",
    "Below this line add an ordered list listing 3 (or more) commonly used libraries in data science."
   ]
  },
  {
   "cell_type": "markdown",
   "id": "ba239706-9149-4928-ba0e-fd2323b0e8c6",
   "metadata": {},
   "source": [
    "before run :"
   ]
  },
  {
   "cell_type": "markdown",
   "id": "f5298d40-3e36-4e45-aebd-1095a23d0693",
   "metadata": {},
   "source": [
    "Some of the commonly used libraries used by Data Scientists include:\n",
    "1. Numpy\n",
    "2. Pandas\n",
    "3. Seaborn \n",
    "4. Scikit-learn"
   ]
  },
  {
   "cell_type": "markdown",
   "id": "b3ce98bf-22ba-413a-b316-d33c1e1419af",
   "metadata": {},
   "source": [
    "after run "
   ]
  },
  {
   "cell_type": "markdown",
   "id": "62915b32-3b0e-481a-a3cb-5d267d5889da",
   "metadata": {},
   "source": [
    "Some of the commonly used libraries used by Data Scientists include:\n",
    "1. Numpy\n",
    "2. Pandas\n",
    "3. Seaborn \n",
    "4. Scikit-learn"
   ]
  },
  {
   "cell_type": "markdown",
   "id": "f21a555a-6ffe-46a8-b6ec-b1ed8ef5505a",
   "metadata": {},
   "source": [
    "**Exercise 6** \n",
    "Create a markdown cell with a table of Data Science tools\n",
    "\n",
    "Create a single column table in this cell with the first row containing the header Data Science Tools. The subsequent three rows in the table should indicate three development environment open source tools used in data science."
   ]
  },
  {
   "cell_type": "code",
   "execution_count": null,
   "id": "05d435b9-b398-4154-a4f6-451089d01d9b",
   "metadata": {},
   "outputs": [],
   "source": [
    "before run "
   ]
  },
  {
   "cell_type": "markdown",
   "id": "2780ae0f-f442-470f-a985-73518ff0e090",
   "metadata": {
    "tags": []
   },
   "source": [
    "|Data Science Tools |\n",
    "|---|\n",
    "|Jupyter|\n",
    "|Jupyter lab |\n",
    "|Zepplin|\n",
    "|RStudio|"
   ]
  },
  {
   "cell_type": "markdown",
   "id": "e3e71ad1-f1bd-4a1c-be58-d724af3c2db1",
   "metadata": {
    "tags": []
   },
   "source": [
    "after run"
   ]
  },
  {
   "cell_type": "markdown",
   "id": "3762239b-af47-4d07-a237-f88ff14978d2",
   "metadata": {},
   "source": [
    "|Data Science Tools |\n",
    "|---|\n",
    "|Jupyter|\n",
    "|Jupyter lab |\n",
    "|Zepplin|\n",
    "|RStudio|"
   ]
  },
  {
   "cell_type": "markdown",
   "id": "50276cd7-ed67-4151-80ba-11e8869b50fd",
   "metadata": {},
   "source": [
    "**Exercise 7**\n",
    "Create a markdown cell introducing arithmetic expression examples\n",
    "\n",
    "Add a line in this cell with H3 style heading with text like:\n",
    "\n",
    "Below are a few examples of evaluating arithmetic expressions in Python."
   ]
  },
  {
   "cell_type": "markdown",
   "id": "7decb98d-e94f-4398-b4ce-9c775faa5352",
   "metadata": {},
   "source": [
    "before run :"
   ]
  },
  {
   "cell_type": "markdown",
   "id": "4b232603-3f99-410a-8ea3-8edfd4a28f34",
   "metadata": {},
   "source": [
    "### Below are a few examples of evaluating arithmetic expressions in Python:"
   ]
  },
  {
   "cell_type": "markdown",
   "id": "37313f6e-3ab7-43fa-b0b6-224cc4435cdc",
   "metadata": {},
   "source": [
    "after run :"
   ]
  },
  {
   "cell_type": "markdown",
   "id": "a1761709-5819-417c-8d6d-c47b5e632ab4",
   "metadata": {},
   "source": [
    "### Below are a few examples of evaluating arithmetic expressions in Python:"
   ]
  },
  {
   "cell_type": "markdown",
   "id": "4976d048-4664-4637-8a14-1d9f452f95be",
   "metadata": {},
   "source": [
    "**Exercise 8**\n",
    "Create a code cell to multiply and add numbers\n",
    "\n",
    "In this code cell evaluate the expression (3*4)+5.\n",
    "Insert a comment line before the expression to explain the operation e.g.  This a simple arithmetic expression to mutiply then add integers.\n",
    "Then execute the cell to ensure the expression returns the expected output of 17."
   ]
  },
  {
   "cell_type": "markdown",
   "id": "bfbc19d8-8221-4df2-818e-126095ff969a",
   "metadata": {},
   "source": [
    "before run :"
   ]
  },
  {
   "cell_type": "markdown",
   "id": "3d4d430b-08b9-4e1b-9358-b46b3cbb10f1",
   "metadata": {},
   "source": [
    "This a simple arithmetic expression to mutiply then add integers"
   ]
  },
  {
   "cell_type": "code",
   "execution_count": null,
   "id": "b4d5ab89-5f2f-4e89-8094-f77a82835d40",
   "metadata": {},
   "outputs": [],
   "source": [
    "(3*4)+5"
   ]
  },
  {
   "cell_type": "markdown",
   "id": "5d853051-b3a4-4cfb-b44c-c0a2ee3222a2",
   "metadata": {},
   "source": [
    "after run :"
   ]
  },
  {
   "cell_type": "markdown",
   "id": "a9e2ef9e-9509-49e0-8953-9cd990effa45",
   "metadata": {},
   "source": [
    "This a simple arithmetic expression to mutiply then add integers"
   ]
  },
  {
   "cell_type": "code",
   "execution_count": 7,
   "id": "e7a1efa2-7236-4bb6-8c95-a4c3c937de66",
   "metadata": {
    "tags": []
   },
   "outputs": [
    {
     "data": {
      "text/plain": [
       "17"
      ]
     },
     "execution_count": 7,
     "metadata": {},
     "output_type": "execute_result"
    }
   ],
   "source": [
    "(3*4)+5"
   ]
  },
  {
   "cell_type": "markdown",
   "id": "b0f54493-dc98-425d-af76-f86989868984",
   "metadata": {},
   "source": [
    "**Exercise 9**\n",
    "Create a code cell to convert minutes to hours\n",
    "\n",
    "In this code cell write an expression that converts 200 minutes into hours.\n",
    "Insert a comment line before the expression to explain the operation e.g.  This will convert 200 minutes to hours by diving by 60.\n",
    "Run the cell to evaluate the expression."
   ]
  },
  {
   "cell_type": "markdown",
   "id": "8888c195-793f-4714-88ea-a6a5b9fe4f20",
   "metadata": {},
   "source": [
    "before run:"
   ]
  },
  {
   "cell_type": "markdown",
   "id": "cfad64b2-b899-4c3c-9e79-c65df849e773",
   "metadata": {},
   "source": [
    "This will convert 200 minutes to hours by diving by 60:"
   ]
  },
  {
   "cell_type": "code",
   "execution_count": null,
   "id": "c79c7094-4b10-4963-9752-036223f63844",
   "metadata": {},
   "outputs": [],
   "source": [
    "200/60"
   ]
  },
  {
   "cell_type": "markdown",
   "id": "b33419a6-686d-4276-8a6e-c279a06151b8",
   "metadata": {},
   "source": [
    "after run :"
   ]
  },
  {
   "cell_type": "markdown",
   "id": "dca4e0db-b3df-404a-924e-bf12cd24e937",
   "metadata": {},
   "source": [
    "This will convert 200 minutes to hours by diving by 60:"
   ]
  },
  {
   "cell_type": "code",
   "execution_count": 10,
   "id": "cea092d0-561b-44b2-aead-658aa662992a",
   "metadata": {
    "tags": []
   },
   "outputs": [
    {
     "data": {
      "text/plain": [
       "3.3333333333333335"
      ]
     },
     "execution_count": 10,
     "metadata": {},
     "output_type": "execute_result"
    }
   ],
   "source": [
    "200/60"
   ]
  },
  {
   "cell_type": "markdown",
   "id": "6dcc6500-3b8e-4f1c-b27d-75bdddfbb01a",
   "metadata": {},
   "source": [
    "**Exercise 10** - Insert a markdown cell to list Objectives\n",
    "Below the introduction cell created in Exercise 3, insert a new markdown cell to list the objectives that this notebook covered (i.e. some of the key takeaways from the course). In this new cell start with an introductory line titled: Objectives: in bold font. Then using an unordered list (bullets) indicate 3 to 5 items covered in this notebook, such as List popular languages for Data Science."
   ]
  },
  {
   "cell_type": "markdown",
   "id": "d071a081-4dc3-4962-b7ff-da9f92c5dd02",
   "metadata": {},
   "source": [
    "before run :"
   ]
  },
  {
   "cell_type": "markdown",
   "id": "1e09b522-4fbe-4387-a8c0-52fcee625edf",
   "metadata": {},
   "source": [
    "**Objectives :**\n",
    "* List popular languages for data science\n",
    "* List popular Data science Tools \n",
    "* List commonly used libraries in data science\n",
    "* write arthematic expression in python "
   ]
  },
  {
   "cell_type": "markdown",
   "id": "15478153-db76-42f2-b843-e6fc10d4c50c",
   "metadata": {},
   "source": [
    "after run :"
   ]
  },
  {
   "cell_type": "markdown",
   "id": "41be5c42-86b0-4095-af67-e291fc405c2a",
   "metadata": {},
   "source": [
    "**Objectives :**\n",
    "* List popular languages for data science\n",
    "* List popular Data science Tools \n",
    "* List commonly used libraries in data science\n",
    "* write arthematic expression in python \n"
   ]
  },
  {
   "cell_type": "markdown",
   "id": "cda7b0e9-f71f-482a-85c9-bdbe93ca1b3b",
   "metadata": {},
   "source": [
    "**Exercise 11**  Create a markdown cell to indicate the Author's name\n",
    "In this markdown cell markdown cell include the following text Author in H2 style heading. Include your name as regular text below the word Author."
   ]
  },
  {
   "cell_type": "markdown",
   "id": "252e7563-da56-4ca8-9a73-c286fb12cef1",
   "metadata": {},
   "source": [
    "before run :"
   ]
  },
  {
   "cell_type": "markdown",
   "id": "1bf31681-51cb-4140-a18c-4022c876452f",
   "metadata": {},
   "source": [
    "## Author\n",
    "Razan Ktaish"
   ]
  },
  {
   "cell_type": "markdown",
   "id": "475c72d9-4a0b-40a3-81f3-6880a7c2ba6d",
   "metadata": {},
   "source": [
    "after run :"
   ]
  },
  {
   "cell_type": "markdown",
   "id": "f5821833-f047-4dd5-87dc-03e10260c8a7",
   "metadata": {},
   "source": [
    "## Author\n",
    "Razan Ktaish "
   ]
  },
  {
   "cell_type": "code",
   "execution_count": null,
   "id": "58490e4d-c32f-4e08-95e0-7661fc495554",
   "metadata": {},
   "outputs": [],
   "source": []
  }
 ],
 "metadata": {
  "kernelspec": {
   "display_name": "Python",
   "language": "python",
   "name": "conda-env-python-py"
  },
  "language_info": {
   "codemirror_mode": {
    "name": "ipython",
    "version": 3
   },
   "file_extension": ".py",
   "mimetype": "text/x-python",
   "name": "python",
   "nbconvert_exporter": "python",
   "pygments_lexer": "ipython3",
   "version": "3.7.12"
  }
 },
 "nbformat": 4,
 "nbformat_minor": 5
}
